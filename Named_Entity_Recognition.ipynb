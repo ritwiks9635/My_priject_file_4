{
  "cells": [
    {
      "cell_type": "markdown",
      "metadata": {
        "id": "view-in-github",
        "colab_type": "text"
      },
      "source": [
        "<a href=\"https://colab.research.google.com/github/ritwiks9635/My_priject_file_4/blob/main/Named_Entity_Recognition.ipynb\" target=\"_parent\"><img src=\"https://colab.research.google.com/assets/colab-badge.svg\" alt=\"Open In Colab\"/></a>"
      ]
    },
    {
      "cell_type": "markdown",
      "source": [
        "Dataset :: https://www.kaggle.com/datasets/debasisdotcom/name-entity-recognition-ner-dataset"
      ],
      "metadata": {
        "id": "vM1g__WBOXVx"
      }
    },
    {
      "cell_type": "code",
      "source": [
        "# extract zip file"
      ],
      "metadata": {
        "id": "y3HalPOiOhte"
      },
      "execution_count": null,
      "outputs": []
    },
    {
      "cell_type": "code",
      "execution_count": null,
      "metadata": {
        "colab": {
          "base_uri": "https://localhost:8080/"
        },
        "id": "HOeu5x0rKnCv",
        "outputId": "aa1c4202-c024-47d4-b108-3695605cc7c7"
      },
      "outputs": [
        {
          "output_type": "stream",
          "name": "stdout",
          "text": [
            "the data has been extracted \n"
          ]
        }
      ],
      "source": [
        "from zipfile import ZipFile\n",
        "data = \"/content/https:/www.kaggle.com/datasets/debasisdotcom/name-entity-recognition-ner-dataset/name-entity-recognition-ner-dataset.zip\"\n",
        "with ZipFile(data,\"r\") as zip:\n",
        "  zip.extractall()\n",
        "  print(\"the data has been extracted \")"
      ]
    },
    {
      "cell_type": "code",
      "source": [
        "# Machine Learning Named Entity Recognition \n",
        "#(NER) is a task of Natural Language\n",
        "# Processing to identify the named\n",
        "# entities in a certain\n",
        "# piece of text."
      ],
      "metadata": {
        "id": "bXsLyHffPZbj"
      },
      "execution_count": null,
      "outputs": []
    },
    {
      "cell_type": "code",
      "source": [
        "# load data using pandas"
      ],
      "metadata": {
        "id": "dBceQjFWOvFi"
      },
      "execution_count": null,
      "outputs": []
    },
    {
      "cell_type": "code",
      "execution_count": null,
      "metadata": {
        "colab": {
          "base_uri": "https://localhost:8080/",
          "height": 250
        },
        "id": "kWH86g0SHF-J",
        "outputId": "0d9954e2-0c8c-45d5-d252-d27542687269"
      },
      "outputs": [
        {
          "output_type": "execute_result",
          "data": {
            "text/plain": [
              "    Sentence #           Word  POS Tag\n",
              "0  Sentence: 1      Thousands  NNS   O\n",
              "1          NaN             of   IN   O\n",
              "2          NaN  demonstrators  NNS   O\n",
              "3          NaN           have  VBP   O\n",
              "4          NaN        marched  VBN   O"
            ],
            "text/html": [
              "\n",
              "  <div id=\"df-36e82632-708c-4a30-af50-31d36407a9c6\">\n",
              "    <div class=\"colab-df-container\">\n",
              "      <div>\n",
              "<style scoped>\n",
              "    .dataframe tbody tr th:only-of-type {\n",
              "        vertical-align: middle;\n",
              "    }\n",
              "\n",
              "    .dataframe tbody tr th {\n",
              "        vertical-align: top;\n",
              "    }\n",
              "\n",
              "    .dataframe thead th {\n",
              "        text-align: right;\n",
              "    }\n",
              "</style>\n",
              "<table border=\"1\" class=\"dataframe\">\n",
              "  <thead>\n",
              "    <tr style=\"text-align: right;\">\n",
              "      <th></th>\n",
              "      <th>Sentence #</th>\n",
              "      <th>Word</th>\n",
              "      <th>POS</th>\n",
              "      <th>Tag</th>\n",
              "    </tr>\n",
              "  </thead>\n",
              "  <tbody>\n",
              "    <tr>\n",
              "      <th>0</th>\n",
              "      <td>Sentence: 1</td>\n",
              "      <td>Thousands</td>\n",
              "      <td>NNS</td>\n",
              "      <td>O</td>\n",
              "    </tr>\n",
              "    <tr>\n",
              "      <th>1</th>\n",
              "      <td>NaN</td>\n",
              "      <td>of</td>\n",
              "      <td>IN</td>\n",
              "      <td>O</td>\n",
              "    </tr>\n",
              "    <tr>\n",
              "      <th>2</th>\n",
              "      <td>NaN</td>\n",
              "      <td>demonstrators</td>\n",
              "      <td>NNS</td>\n",
              "      <td>O</td>\n",
              "    </tr>\n",
              "    <tr>\n",
              "      <th>3</th>\n",
              "      <td>NaN</td>\n",
              "      <td>have</td>\n",
              "      <td>VBP</td>\n",
              "      <td>O</td>\n",
              "    </tr>\n",
              "    <tr>\n",
              "      <th>4</th>\n",
              "      <td>NaN</td>\n",
              "      <td>marched</td>\n",
              "      <td>VBN</td>\n",
              "      <td>O</td>\n",
              "    </tr>\n",
              "  </tbody>\n",
              "</table>\n",
              "</div>\n",
              "      <button class=\"colab-df-convert\" onclick=\"convertToInteractive('df-36e82632-708c-4a30-af50-31d36407a9c6')\"\n",
              "              title=\"Convert this dataframe to an interactive table.\"\n",
              "              style=\"display:none;\">\n",
              "        \n",
              "  <svg xmlns=\"http://www.w3.org/2000/svg\" height=\"24px\"viewBox=\"0 0 24 24\"\n",
              "       width=\"24px\">\n",
              "    <path d=\"M0 0h24v24H0V0z\" fill=\"none\"/>\n",
              "    <path d=\"M18.56 5.44l.94 2.06.94-2.06 2.06-.94-2.06-.94-.94-2.06-.94 2.06-2.06.94zm-11 1L8.5 8.5l.94-2.06 2.06-.94-2.06-.94L8.5 2.5l-.94 2.06-2.06.94zm10 10l.94 2.06.94-2.06 2.06-.94-2.06-.94-.94-2.06-.94 2.06-2.06.94z\"/><path d=\"M17.41 7.96l-1.37-1.37c-.4-.4-.92-.59-1.43-.59-.52 0-1.04.2-1.43.59L10.3 9.45l-7.72 7.72c-.78.78-.78 2.05 0 2.83L4 21.41c.39.39.9.59 1.41.59.51 0 1.02-.2 1.41-.59l7.78-7.78 2.81-2.81c.8-.78.8-2.07 0-2.86zM5.41 20L4 18.59l7.72-7.72 1.47 1.35L5.41 20z\"/>\n",
              "  </svg>\n",
              "      </button>\n",
              "      \n",
              "  <style>\n",
              "    .colab-df-container {\n",
              "      display:flex;\n",
              "      flex-wrap:wrap;\n",
              "      gap: 12px;\n",
              "    }\n",
              "\n",
              "    .colab-df-convert {\n",
              "      background-color: #E8F0FE;\n",
              "      border: none;\n",
              "      border-radius: 50%;\n",
              "      cursor: pointer;\n",
              "      display: none;\n",
              "      fill: #1967D2;\n",
              "      height: 32px;\n",
              "      padding: 0 0 0 0;\n",
              "      width: 32px;\n",
              "    }\n",
              "\n",
              "    .colab-df-convert:hover {\n",
              "      background-color: #E2EBFA;\n",
              "      box-shadow: 0px 1px 2px rgba(60, 64, 67, 0.3), 0px 1px 3px 1px rgba(60, 64, 67, 0.15);\n",
              "      fill: #174EA6;\n",
              "    }\n",
              "\n",
              "    [theme=dark] .colab-df-convert {\n",
              "      background-color: #3B4455;\n",
              "      fill: #D2E3FC;\n",
              "    }\n",
              "\n",
              "    [theme=dark] .colab-df-convert:hover {\n",
              "      background-color: #434B5C;\n",
              "      box-shadow: 0px 1px 3px 1px rgba(0, 0, 0, 0.15);\n",
              "      filter: drop-shadow(0px 1px 2px rgba(0, 0, 0, 0.3));\n",
              "      fill: #FFFFFF;\n",
              "    }\n",
              "  </style>\n",
              "\n",
              "      <script>\n",
              "        const buttonEl =\n",
              "          document.querySelector('#df-36e82632-708c-4a30-af50-31d36407a9c6 button.colab-df-convert');\n",
              "        buttonEl.style.display =\n",
              "          google.colab.kernel.accessAllowed ? 'block' : 'none';\n",
              "\n",
              "        async function convertToInteractive(key) {\n",
              "          const element = document.querySelector('#df-36e82632-708c-4a30-af50-31d36407a9c6');\n",
              "          const dataTable =\n",
              "            await google.colab.kernel.invokeFunction('convertToInteractive',\n",
              "                                                     [key], {});\n",
              "          if (!dataTable) return;\n",
              "\n",
              "          const docLinkHtml = 'Like what you see? Visit the ' +\n",
              "            '<a target=\"_blank\" href=https://colab.research.google.com/notebooks/data_table.ipynb>data table notebook</a>'\n",
              "            + ' to learn more about interactive tables.';\n",
              "          element.innerHTML = '';\n",
              "          dataTable['output_type'] = 'display_data';\n",
              "          await google.colab.output.renderOutput(dataTable, element);\n",
              "          const docLink = document.createElement('div');\n",
              "          docLink.innerHTML = docLinkHtml;\n",
              "          element.appendChild(docLink);\n",
              "        }\n",
              "      </script>\n",
              "    </div>\n",
              "  </div>\n",
              "  "
            ]
          },
          "metadata": {},
          "execution_count": 3
        }
      ],
      "source": [
        "import pandas as pd\n",
        "data = pd.read_csv(\"/content/NER dataset.csv\", encoding = 'unicode_escape')\n",
        "data.head()"
      ]
    },
    {
      "cell_type": "markdown",
      "source": [
        "Data Preparation"
      ],
      "metadata": {
        "id": "0oOhhXLYPxP9"
      }
    },
    {
      "cell_type": "code",
      "source": [
        "# we need to do some modifications in\n",
        "# the data to prepare it in such a\n",
        "# manner so that it can easily fit\n",
        "# into a neutral network."
      ],
      "metadata": {
        "id": "YcToa0aiPzDe"
      },
      "execution_count": null,
      "outputs": []
    },
    {
      "cell_type": "code",
      "execution_count": null,
      "metadata": {
        "id": "mgceXICOQLGJ"
      },
      "outputs": [],
      "source": [
        "# from itertools import chain\n",
        "def get_dict_map(data, token_or_tag):\n",
        "    tok_2_idx = {}\n",
        "    idx_2_tok = {}\n",
        "    \n",
        "    if token_or_tag == 'token':\n",
        "        vocab = list(set(data['Word'].to_list()))\n",
        "    else:\n",
        "        vocab = list(set(data['Tag'].to_list()))\n",
        "    \n",
        "    idx_2_tok = {idx:tok for  idx, tok in enumerate(vocab)}\n",
        "    tok_2_idx = {tok:idx for  idx, tok in enumerate(vocab)}\n",
        "    return tok_2_idx, idx_2_tok\n",
        "token_idx, idx_token = get_dict_map(data, 'token')\n",
        "tag_idx, idx_tag = get_dict_map(data, 'tag')"
      ]
    },
    {
      "cell_type": "code",
      "source": [
        "# Now I will transform the columns in\n",
        "# the data to extract the sequential \n",
        "# data"
      ],
      "metadata": {
        "id": "-JEhFI2EQhB-"
      },
      "execution_count": null,
      "outputs": []
    },
    {
      "cell_type": "code",
      "execution_count": null,
      "metadata": {
        "colab": {
          "base_uri": "https://localhost:8080/"
        },
        "id": "_20k6WqATNUi",
        "outputId": "443d603b-b8d4-464b-a4fb-f1042a9c0d48"
      },
      "outputs": [
        {
          "output_type": "stream",
          "name": "stderr",
          "text": [
            "<ipython-input-6-b7753cfa6c81>:4: FutureWarning: Indexing with multiple keys (implicitly converted to a tuple of keys) will be deprecated, use a list instead.\n",
            "  data_new = data_fillna.groupby(['Sentence #'], as_index = False)[\"Word\", \"POS\", \"Tag\", \"word_idx\", \"tag_idx\"].agg(lambda x: list(x))\n"
          ]
        }
      ],
      "source": [
        "data[\"word_idx\"] = data[\"Word\"].map(token_idx)\n",
        "data[\"tag_idx\"] = data[\"Tag\"].map(tag_idx)\n",
        "data_fillna = data.fillna(method=\"ffill\", axis = 0)\n",
        "data_new = data_fillna.groupby(['Sentence #'], as_index = False)[\"Word\", \"POS\", \"Tag\", \"word_idx\", \"tag_idx\"].agg(lambda x: list(x))"
      ]
    },
    {
      "cell_type": "code",
      "source": [
        "data_new.head()"
      ],
      "metadata": {
        "colab": {
          "base_uri": "https://localhost:8080/",
          "height": 1000
        },
        "id": "d5jbK2EAOAvW",
        "outputId": "91005c4a-5667-4337-b274-d1880f61e113"
      },
      "execution_count": null,
      "outputs": [
        {
          "output_type": "execute_result",
          "data": {
            "text/plain": [
              "        Sentence #                                               Word  \\\n",
              "0      Sentence: 1  [Thousands, of, demonstrators, have, marched, ...   \n",
              "1     Sentence: 10  [Iranian, officials, say, they, expect, to, ge...   \n",
              "2    Sentence: 100  [Helicopter, gunships, Saturday, pounded, mili...   \n",
              "3   Sentence: 1000  [They, left, after, a, tense, hour-long, stand...   \n",
              "4  Sentence: 10000  [U.N., relief, coordinator, Jan, Egeland, said...   \n",
              "\n",
              "                                                 POS  \\\n",
              "0  [NNS, IN, NNS, VBP, VBN, IN, NNP, TO, VB, DT, ...   \n",
              "1  [JJ, NNS, VBP, PRP, VBP, TO, VB, NN, TO, JJ, J...   \n",
              "2  [NN, NNS, NNP, VBD, JJ, NNS, IN, DT, NNP, JJ, ...   \n",
              "3     [PRP, VBD, IN, DT, NN, JJ, NN, IN, NN, NNS, .]   \n",
              "4  [NNP, NN, NN, NNP, NNP, VBD, NNP, ,, NNP, ,, J...   \n",
              "\n",
              "                                                 Tag  \\\n",
              "0  [O, O, O, O, O, O, B-geo, O, O, O, O, O, B-geo...   \n",
              "1  [B-gpe, O, O, O, O, O, O, O, O, O, O, O, O, O,...   \n",
              "2  [O, O, B-tim, O, O, O, O, O, B-geo, O, O, O, O...   \n",
              "3                  [O, O, O, O, O, O, O, O, O, O, O]   \n",
              "4  [B-geo, O, O, B-per, I-per, O, B-tim, O, B-geo...   \n",
              "\n",
              "                                            word_idx  \\\n",
              "0  [13948, 10456, 14080, 26271, 10709, 22146, 591...   \n",
              "1  [11004, 15302, 33589, 25714, 9479, 30074, 1158...   \n",
              "2  [32887, 11218, 17945, 23374, 29491, 21875, 194...   \n",
              "3  [11779, 9623, 26037, 7289, 24467, 18946, 16247...   \n",
              "4  [23566, 28040, 14642, 8714, 24375, 33063, 1101...   \n",
              "\n",
              "                                             tag_idx  \n",
              "0  [8, 8, 8, 8, 8, 8, 14, 8, 8, 8, 8, 8, 14, 8, 8...  \n",
              "1  [7, 8, 8, 8, 8, 8, 8, 8, 8, 8, 8, 8, 8, 8, 8, ...  \n",
              "2  [8, 8, 2, 8, 8, 8, 8, 8, 14, 8, 8, 8, 8, 8, 1,...  \n",
              "3                  [8, 8, 8, 8, 8, 8, 8, 8, 8, 8, 8]  \n",
              "4  [14, 8, 8, 12, 6, 8, 2, 8, 14, 8, 7, 8, 7, 8, ...  "
            ],
            "text/html": [
              "\n",
              "  <div id=\"df-dee2de62-1b0a-4ce9-95d1-4e0ef9a0a6c5\">\n",
              "    <div class=\"colab-df-container\">\n",
              "      <div>\n",
              "<style scoped>\n",
              "    .dataframe tbody tr th:only-of-type {\n",
              "        vertical-align: middle;\n",
              "    }\n",
              "\n",
              "    .dataframe tbody tr th {\n",
              "        vertical-align: top;\n",
              "    }\n",
              "\n",
              "    .dataframe thead th {\n",
              "        text-align: right;\n",
              "    }\n",
              "</style>\n",
              "<table border=\"1\" class=\"dataframe\">\n",
              "  <thead>\n",
              "    <tr style=\"text-align: right;\">\n",
              "      <th></th>\n",
              "      <th>Sentence #</th>\n",
              "      <th>Word</th>\n",
              "      <th>POS</th>\n",
              "      <th>Tag</th>\n",
              "      <th>word_idx</th>\n",
              "      <th>tag_idx</th>\n",
              "    </tr>\n",
              "  </thead>\n",
              "  <tbody>\n",
              "    <tr>\n",
              "      <th>0</th>\n",
              "      <td>Sentence: 1</td>\n",
              "      <td>[Thousands, of, demonstrators, have, marched, ...</td>\n",
              "      <td>[NNS, IN, NNS, VBP, VBN, IN, NNP, TO, VB, DT, ...</td>\n",
              "      <td>[O, O, O, O, O, O, B-geo, O, O, O, O, O, B-geo...</td>\n",
              "      <td>[13948, 10456, 14080, 26271, 10709, 22146, 591...</td>\n",
              "      <td>[8, 8, 8, 8, 8, 8, 14, 8, 8, 8, 8, 8, 14, 8, 8...</td>\n",
              "    </tr>\n",
              "    <tr>\n",
              "      <th>1</th>\n",
              "      <td>Sentence: 10</td>\n",
              "      <td>[Iranian, officials, say, they, expect, to, ge...</td>\n",
              "      <td>[JJ, NNS, VBP, PRP, VBP, TO, VB, NN, TO, JJ, J...</td>\n",
              "      <td>[B-gpe, O, O, O, O, O, O, O, O, O, O, O, O, O,...</td>\n",
              "      <td>[11004, 15302, 33589, 25714, 9479, 30074, 1158...</td>\n",
              "      <td>[7, 8, 8, 8, 8, 8, 8, 8, 8, 8, 8, 8, 8, 8, 8, ...</td>\n",
              "    </tr>\n",
              "    <tr>\n",
              "      <th>2</th>\n",
              "      <td>Sentence: 100</td>\n",
              "      <td>[Helicopter, gunships, Saturday, pounded, mili...</td>\n",
              "      <td>[NN, NNS, NNP, VBD, JJ, NNS, IN, DT, NNP, JJ, ...</td>\n",
              "      <td>[O, O, B-tim, O, O, O, O, O, B-geo, O, O, O, O...</td>\n",
              "      <td>[32887, 11218, 17945, 23374, 29491, 21875, 194...</td>\n",
              "      <td>[8, 8, 2, 8, 8, 8, 8, 8, 14, 8, 8, 8, 8, 8, 1,...</td>\n",
              "    </tr>\n",
              "    <tr>\n",
              "      <th>3</th>\n",
              "      <td>Sentence: 1000</td>\n",
              "      <td>[They, left, after, a, tense, hour-long, stand...</td>\n",
              "      <td>[PRP, VBD, IN, DT, NN, JJ, NN, IN, NN, NNS, .]</td>\n",
              "      <td>[O, O, O, O, O, O, O, O, O, O, O]</td>\n",
              "      <td>[11779, 9623, 26037, 7289, 24467, 18946, 16247...</td>\n",
              "      <td>[8, 8, 8, 8, 8, 8, 8, 8, 8, 8, 8]</td>\n",
              "    </tr>\n",
              "    <tr>\n",
              "      <th>4</th>\n",
              "      <td>Sentence: 10000</td>\n",
              "      <td>[U.N., relief, coordinator, Jan, Egeland, said...</td>\n",
              "      <td>[NNP, NN, NN, NNP, NNP, VBD, NNP, ,, NNP, ,, J...</td>\n",
              "      <td>[B-geo, O, O, B-per, I-per, O, B-tim, O, B-geo...</td>\n",
              "      <td>[23566, 28040, 14642, 8714, 24375, 33063, 1101...</td>\n",
              "      <td>[14, 8, 8, 12, 6, 8, 2, 8, 14, 8, 7, 8, 7, 8, ...</td>\n",
              "    </tr>\n",
              "  </tbody>\n",
              "</table>\n",
              "</div>\n",
              "      <button class=\"colab-df-convert\" onclick=\"convertToInteractive('df-dee2de62-1b0a-4ce9-95d1-4e0ef9a0a6c5')\"\n",
              "              title=\"Convert this dataframe to an interactive table.\"\n",
              "              style=\"display:none;\">\n",
              "        \n",
              "  <svg xmlns=\"http://www.w3.org/2000/svg\" height=\"24px\"viewBox=\"0 0 24 24\"\n",
              "       width=\"24px\">\n",
              "    <path d=\"M0 0h24v24H0V0z\" fill=\"none\"/>\n",
              "    <path d=\"M18.56 5.44l.94 2.06.94-2.06 2.06-.94-2.06-.94-.94-2.06-.94 2.06-2.06.94zm-11 1L8.5 8.5l.94-2.06 2.06-.94-2.06-.94L8.5 2.5l-.94 2.06-2.06.94zm10 10l.94 2.06.94-2.06 2.06-.94-2.06-.94-.94-2.06-.94 2.06-2.06.94z\"/><path d=\"M17.41 7.96l-1.37-1.37c-.4-.4-.92-.59-1.43-.59-.52 0-1.04.2-1.43.59L10.3 9.45l-7.72 7.72c-.78.78-.78 2.05 0 2.83L4 21.41c.39.39.9.59 1.41.59.51 0 1.02-.2 1.41-.59l7.78-7.78 2.81-2.81c.8-.78.8-2.07 0-2.86zM5.41 20L4 18.59l7.72-7.72 1.47 1.35L5.41 20z\"/>\n",
              "  </svg>\n",
              "      </button>\n",
              "      \n",
              "  <style>\n",
              "    .colab-df-container {\n",
              "      display:flex;\n",
              "      flex-wrap:wrap;\n",
              "      gap: 12px;\n",
              "    }\n",
              "\n",
              "    .colab-df-convert {\n",
              "      background-color: #E8F0FE;\n",
              "      border: none;\n",
              "      border-radius: 50%;\n",
              "      cursor: pointer;\n",
              "      display: none;\n",
              "      fill: #1967D2;\n",
              "      height: 32px;\n",
              "      padding: 0 0 0 0;\n",
              "      width: 32px;\n",
              "    }\n",
              "\n",
              "    .colab-df-convert:hover {\n",
              "      background-color: #E2EBFA;\n",
              "      box-shadow: 0px 1px 2px rgba(60, 64, 67, 0.3), 0px 1px 3px 1px rgba(60, 64, 67, 0.15);\n",
              "      fill: #174EA6;\n",
              "    }\n",
              "\n",
              "    [theme=dark] .colab-df-convert {\n",
              "      background-color: #3B4455;\n",
              "      fill: #D2E3FC;\n",
              "    }\n",
              "\n",
              "    [theme=dark] .colab-df-convert:hover {\n",
              "      background-color: #434B5C;\n",
              "      box-shadow: 0px 1px 3px 1px rgba(0, 0, 0, 0.15);\n",
              "      filter: drop-shadow(0px 1px 2px rgba(0, 0, 0, 0.3));\n",
              "      fill: #FFFFFF;\n",
              "    }\n",
              "  </style>\n",
              "\n",
              "      <script>\n",
              "        const buttonEl =\n",
              "          document.querySelector('#df-dee2de62-1b0a-4ce9-95d1-4e0ef9a0a6c5 button.colab-df-convert');\n",
              "        buttonEl.style.display =\n",
              "          google.colab.kernel.accessAllowed ? 'block' : 'none';\n",
              "\n",
              "        async function convertToInteractive(key) {\n",
              "          const element = document.querySelector('#df-dee2de62-1b0a-4ce9-95d1-4e0ef9a0a6c5');\n",
              "          const dataTable =\n",
              "            await google.colab.kernel.invokeFunction('convertToInteractive',\n",
              "                                                     [key], {});\n",
              "          if (!dataTable) return;\n",
              "\n",
              "          const docLinkHtml = 'Like what you see? Visit the ' +\n",
              "            '<a target=\"_blank\" href=https://colab.research.google.com/notebooks/data_table.ipynb>data table notebook</a>'\n",
              "            + ' to learn more about interactive tables.';\n",
              "          element.innerHTML = '';\n",
              "          dataTable['output_type'] = 'display_data';\n",
              "          await google.colab.output.renderOutput(dataTable, element);\n",
              "          const docLink = document.createElement('div');\n",
              "          docLink.innerHTML = docLinkHtml;\n",
              "          element.appendChild(docLink);\n",
              "        }\n",
              "      </script>\n",
              "    </div>\n",
              "  </div>\n",
              "  "
            ]
          },
          "metadata": {},
          "execution_count": 7
        }
      ]
    },
    {
      "cell_type": "markdown",
      "source": [
        "Split the dataset"
      ],
      "metadata": {
        "id": "7el7FP5OQy4Y"
      }
    },
    {
      "cell_type": "code",
      "source": [
        "# Now I will split the data into\n",
        "# training and test sets. I will create\n",
        "# a function for splitting the data\n",
        "# because the LSTM layers accept sequences\n",
        "# of the same length only."
      ],
      "metadata": {
        "id": "xAUc4gBZQ2Ce"
      },
      "execution_count": null,
      "outputs": []
    },
    {
      "cell_type": "code",
      "execution_count": null,
      "metadata": {
        "id": "jNdQ0yuaWSET"
      },
      "outputs": [],
      "source": [
        "from sklearn.model_selection import train_test_split \n",
        "from keras_preprocessing.sequence import pad_sequences \n",
        "from keras.utils import to_categorical\n",
        "\n",
        "def get_pad_train_test_val(data_new ,data):\n",
        "  n_token = len(list(set(data[\"Word\"].to_list())))\n",
        "  n_tag = len(list(set(data[\"Tag\"].to_list())))\n",
        "  #Pad tokens\n",
        "  token = data_new[\"word_idx\"].to_list()\n",
        "  maxlen = max([len(i) for i in token])\n",
        "  pad_token = pad_sequences(token, maxlen = maxlen, dtype = \"int32\", padding = \"post\", value = n_token-1)\n",
        "  #Pad Tags and convert it into one hot encoding\n",
        "  tag = data_group[\"tag_idx\"].to_list()\n",
        "  pad_tag = pad_sequences(tag, maxlen = maxlen, dtype = \"int32\", padding = \"post\", value = tag_idx[\"O\"])\n",
        "  n_tags = len(tag_idx)\n",
        "  pad_tags = [to_categorical(i, num_classes = n_tags) for i in pad_tag]\n",
        "\n",
        "  tokens, test_tokens, tags, test_tags = train_test_split(pad_token, pad_tags, test_size=0.1, random_state = 2020)\n",
        "  train_tokens, val_tokens, train_tags, val_tags = train_test_split(tokens, tags, test_size = 0.25, random_state = 2023)\n",
        "  print(\n",
        "        'train_tokens length:', len(train_tokens),\n",
        "        '\\ntrain_tags length:', len(train_tags),\n",
        "        '\\ntest_tokens length:', len(test_tokens),\n",
        "        '\\ntest_tags:', len(test_tags),\n",
        "        '\\nval_tokens:', len(val_tokens),\n",
        "        '\\nval_tags:', len(val_tags),\n",
        "    )\n",
        "  return train_tokens, val_tokens, test_tokens, train_tags, val_tags, test_tags"
      ]
    },
    {
      "cell_type": "code",
      "execution_count": null,
      "metadata": {
        "colab": {
          "base_uri": "https://localhost:8080/"
        },
        "id": "GICdXDpCehuF",
        "outputId": "b4ad7e79-b2e1-409a-8edd-a960a7ac58bc"
      },
      "outputs": [
        {
          "output_type": "stream",
          "name": "stdout",
          "text": [
            "train_tokens length: 32372 \n",
            "train_tags length: 32372 \n",
            "test_tokens length: 4796 \n",
            "test_tags: 4796 \n",
            "val_tokens: 10791 \n",
            "val_tags: 10791\n"
          ]
        }
      ],
      "source": [
        "train_tokens, val_tokens, test_tokens, train_tags, val_tags, test_tags = get_pad_train_test_val(data_new, data)"
      ]
    },
    {
      "cell_type": "markdown",
      "source": [
        "Training Neural Network"
      ],
      "metadata": {
        "id": "CKYG5EQXRXDH"
      }
    },
    {
      "cell_type": "code",
      "execution_count": null,
      "metadata": {
        "id": "66-jAnvOnpbY"
      },
      "outputs": [],
      "source": [
        "# 1st import requires model"
      ]
    },
    {
      "cell_type": "code",
      "execution_count": null,
      "metadata": {
        "id": "Z7ijXHKkfg0l"
      },
      "outputs": [],
      "source": [
        "import numpy as np\n",
        "import tensorflow\n",
        "from tensorflow.keras import Sequential, Model, Input\n",
        "from tensorflow.keras.layers import LSTM, Embedding, Dense, TimeDistributed, Dropout, Bidirectional\n",
        "from tensorflow.keras.utils import plot_model\n",
        "from numpy.random import seed\n",
        "seed(1)\n",
        "tensorflow.random.set_seed(2)"
      ]
    },
    {
      "cell_type": "code",
      "execution_count": null,
      "metadata": {
        "id": "vTEoy3T1fwgb"
      },
      "outputs": [],
      "source": [
        "input_dim = len(list(set(data[\"Word\"].to_list())))+1\n",
        "output_dim = 64\n",
        "input_len = max([len(i) for i in data_group[\"word_idx\"].to_list()])\n",
        "n_tags = len(tag_idx)"
      ]
    },
    {
      "cell_type": "markdown",
      "source": [
        "Create Model"
      ],
      "metadata": {
        "id": "uLwqKtk1RuQ-"
      }
    },
    {
      "cell_type": "code",
      "source": [
        "# Now create helper function for create model architecture"
      ],
      "metadata": {
        "id": "CiNOCZpASfcP"
      },
      "execution_count": null,
      "outputs": []
    },
    {
      "cell_type": "code",
      "execution_count": null,
      "metadata": {
        "id": "N8coL15NiBgb"
      },
      "outputs": [],
      "source": [
        "def get_bilstm_lstm_model():\n",
        "    model = Sequential()\n",
        "\n",
        "    # Add Embedding layer\n",
        "    model.add(Embedding(input_dim=input_dim, output_dim=output_dim, input_length=input_len))\n",
        "\n",
        "    # Add bidirectional LSTM\n",
        "    model.add(Bidirectional(LSTM(units=output_dim, return_sequences=True, dropout=0.2, recurrent_dropout=0.2), merge_mode = 'concat'))\n",
        "\n",
        "    # Add LSTM\n",
        "    model.add(LSTM(units=output_dim, return_sequences=True, dropout=0.5, recurrent_dropout=0.5))\n",
        "\n",
        "    # Add timeDistributed Layer\n",
        "    model.add(TimeDistributed(Dense(n_tags, activation=\"relu\")))\n",
        "\n",
        "    # Compile model\n",
        "    model.compile(loss='categorical_crossentropy', optimizer='adam', metrics=['accuracy'])\n",
        "    model.summary()\n",
        "    \n",
        "    return model"
      ]
    },
    {
      "cell_type": "code",
      "source": [
        "# Helper function for train our model"
      ],
      "metadata": {
        "id": "FcFzXD3aSsus"
      },
      "execution_count": null,
      "outputs": []
    },
    {
      "cell_type": "code",
      "execution_count": null,
      "metadata": {
        "id": "PkSWm8MXjarA"
      },
      "outputs": [],
      "source": [
        "def train_model(X, y, model):\n",
        "    loss = list()\n",
        "    for i in range(25):\n",
        "        # fit model for one epoch on this sequence\n",
        "        history = model.fit(X, y, batch_size=1000, verbose=1, epochs=1, validation_split=0.2)\n",
        "        loss.append(history.history['loss'][0])\n",
        "    return loss"
      ]
    },
    {
      "cell_type": "code",
      "source": [
        "# Pass dataset in my model with 100 epochs"
      ],
      "metadata": {
        "id": "XAjG4HUrS1Y4"
      },
      "execution_count": null,
      "outputs": []
    },
    {
      "cell_type": "code",
      "execution_count": null,
      "metadata": {
        "colab": {
          "base_uri": "https://localhost:8080/"
        },
        "id": "4tRVBqpIjmK9",
        "outputId": "428f8d45-15de-4e85-f21b-69aa53bb0ba5"
      },
      "outputs": [
        {
          "output_type": "stream",
          "name": "stderr",
          "text": [
            "WARNING:tensorflow:Layer lstm will not use cuDNN kernels since it doesn't meet the criteria. It will use a generic GPU kernel as fallback when running on GPU.\n",
            "WARNING:tensorflow:Layer lstm will not use cuDNN kernels since it doesn't meet the criteria. It will use a generic GPU kernel as fallback when running on GPU.\n",
            "WARNING:tensorflow:Layer lstm will not use cuDNN kernels since it doesn't meet the criteria. It will use a generic GPU kernel as fallback when running on GPU.\n",
            "WARNING:tensorflow:Layer lstm_1 will not use cuDNN kernels since it doesn't meet the criteria. It will use a generic GPU kernel as fallback when running on GPU.\n"
          ]
        },
        {
          "output_type": "stream",
          "name": "stdout",
          "text": [
            "Model: \"sequential\"\n",
            "_________________________________________________________________\n",
            " Layer (type)                Output Shape              Param #   \n",
            "=================================================================\n",
            " embedding (Embedding)       (None, 104, 64)           2251456   \n",
            "                                                                 \n",
            " bidirectional (Bidirectiona  (None, 104, 128)         66048     \n",
            " l)                                                              \n",
            "                                                                 \n",
            " lstm_1 (LSTM)               (None, 104, 64)           49408     \n",
            "                                                                 \n",
            " time_distributed (TimeDistr  (None, 104, 17)          1105      \n",
            " ibuted)                                                         \n",
            "                                                                 \n",
            "=================================================================\n",
            "Total params: 2,368,017\n",
            "Trainable params: 2,368,017\n",
            "Non-trainable params: 0\n",
            "_________________________________________________________________\n",
            "Model: \"sequential\"\n",
            "_________________________________________________________________\n",
            " Layer (type)                Output Shape              Param #   \n",
            "=================================================================\n",
            " embedding (Embedding)       (None, 104, 64)           2251456   \n",
            "                                                                 \n",
            " bidirectional (Bidirectiona  (None, 104, 128)         66048     \n",
            " l)                                                              \n",
            "                                                                 \n",
            " lstm_1 (LSTM)               (None, 104, 64)           49408     \n",
            "                                                                 \n",
            " time_distributed (TimeDistr  (None, 104, 17)          1105      \n",
            " ibuted)                                                         \n",
            "                                                                 \n",
            "=================================================================\n",
            "Total params: 2,368,017\n",
            "Trainable params: 2,368,017\n",
            "Non-trainable params: 0\n",
            "_________________________________________________________________\n",
            "26/26 [==============================] - 54s 2s/step - loss: 1.0802 - accuracy: 0.9158 - val_loss: 0.2849 - val_accuracy: 0.9683\n",
            "26/26 [==============================] - 33s 1s/step - loss: 0.2785 - accuracy: 0.9677 - val_loss: 0.2343 - val_accuracy: 0.9683\n",
            "26/26 [==============================] - 34s 1s/step - loss: 0.2425 - accuracy: 0.9677 - val_loss: 0.2158 - val_accuracy: 0.9683\n",
            "26/26 [==============================] - 33s 1s/step - loss: 0.2255 - accuracy: 0.9677 - val_loss: 0.2073 - val_accuracy: 0.9683\n",
            "26/26 [==============================] - 34s 1s/step - loss: 0.2088 - accuracy: 0.9677 - val_loss: 0.1893 - val_accuracy: 0.9683\n",
            "26/26 [==============================] - 35s 1s/step - loss: 0.2017 - accuracy: 0.9677 - val_loss: 0.1940 - val_accuracy: 0.9683\n",
            "26/26 [==============================] - 33s 1s/step - loss: 0.1918 - accuracy: 0.9677 - val_loss: 0.1750 - val_accuracy: 0.9683\n",
            "26/26 [==============================] - 35s 1s/step - loss: 0.1509 - accuracy: 0.9677 - val_loss: 0.1434 - val_accuracy: 0.9683\n",
            "26/26 [==============================] - 34s 1s/step - loss: 0.1441 - accuracy: 0.9678 - val_loss: 0.1429 - val_accuracy: 0.9683\n",
            "26/26 [==============================] - 35s 1s/step - loss: 0.1347 - accuracy: 0.9678 - val_loss: 0.1325 - val_accuracy: 0.9684\n",
            "26/26 [==============================] - 33s 1s/step - loss: 0.1254 - accuracy: 0.9680 - val_loss: 0.1288 - val_accuracy: 0.9685\n",
            "26/26 [==============================] - 34s 1s/step - loss: 0.1252 - accuracy: 0.9681 - val_loss: 0.1343 - val_accuracy: 0.9686\n",
            "26/26 [==============================] - 35s 1s/step - loss: 0.1180 - accuracy: 0.9683 - val_loss: 0.1293 - val_accuracy: 0.9687\n",
            "26/26 [==============================] - 35s 1s/step - loss: 0.1140 - accuracy: 0.9685 - val_loss: 0.1312 - val_accuracy: 0.9690\n",
            "26/26 [==============================] - 35s 1s/step - loss: 0.1115 - accuracy: 0.9689 - val_loss: 0.1283 - val_accuracy: 0.9694\n",
            "26/26 [==============================] - 34s 1s/step - loss: 0.1147 - accuracy: 0.9692 - val_loss: 0.1241 - val_accuracy: 0.9695\n",
            "26/26 [==============================] - 35s 1s/step - loss: 0.1066 - accuracy: 0.9692 - val_loss: 0.1233 - val_accuracy: 0.9697\n",
            "26/26 [==============================] - 35s 1s/step - loss: 0.1036 - accuracy: 0.9698 - val_loss: 0.1243 - val_accuracy: 0.9700\n",
            "26/26 [==============================] - 35s 1s/step - loss: 0.1007 - accuracy: 0.9702 - val_loss: 0.1235 - val_accuracy: 0.9706\n",
            "26/26 [==============================] - 35s 1s/step - loss: 0.0991 - accuracy: 0.9709 - val_loss: 0.1256 - val_accuracy: 0.9708\n",
            "26/26 [==============================] - 35s 1s/step - loss: 0.0965 - accuracy: 0.9712 - val_loss: 0.1150 - val_accuracy: 0.9711\n",
            "26/26 [==============================] - 35s 1s/step - loss: 0.0841 - accuracy: 0.9714 - val_loss: 0.1064 - val_accuracy: 0.9716\n",
            "26/26 [==============================] - 34s 1s/step - loss: 0.0793 - accuracy: 0.9725 - val_loss: 0.1014 - val_accuracy: 0.9730\n",
            "26/26 [==============================] - 35s 1s/step - loss: 0.0776 - accuracy: 0.9727 - val_loss: 0.1046 - val_accuracy: 0.9730\n",
            "26/26 [==============================] - 34s 1s/step - loss: 0.0765 - accuracy: 0.9733 - val_loss: 0.1063 - val_accuracy: 0.9725\n"
          ]
        }
      ],
      "source": [
        "results = pd.DataFrame()\n",
        "model = get_bilstm_lstm_model()\n",
        "model.summary()\n",
        "results['with_add_lstm'] = train_model(train_tokens, np.array(train_tags), model)"
      ]
    },
    {
      "cell_type": "markdown",
      "source": [
        "Now let’s test our model"
      ],
      "metadata": {
        "id": "1pCNHf7jTL_8"
      }
    },
    {
      "cell_type": "code",
      "source": [
        "import spacy\n",
        "from spacy import displacy\n",
        "nlp = spacy.load('en_core_web_sm')\n",
        "text = nlp('Hi, My name is Ritwik Sarkar \\n I am from India \\n I want to work with Google \\n My favorite teacher is Andrew NG')\n",
        "displacy.render(text, style = 'ent', jupyter=True)"
      ],
      "metadata": {
        "colab": {
          "base_uri": "https://localhost:8080/",
          "height": 157
        },
        "id": "JQ24edIsTT-f",
        "outputId": "2492f908-ca75-4be7-dfbd-8bb68b0b1ea6"
      },
      "execution_count": null,
      "outputs": [
        {
          "output_type": "display_data",
          "data": {
            "text/plain": [
              "<IPython.core.display.HTML object>"
            ],
            "text/html": [
              "<span class=\"tex2jax_ignore\"><div class=\"entities\" style=\"line-height: 2.5; direction: ltr\">Hi, My name is \n",
              "<mark class=\"entity\" style=\"background: #7aecec; padding: 0.45em 0.6em; margin: 0 0.25em; line-height: 1; border-radius: 0.35em;\">\n",
              "    Ritwik Sarkar \n",
              " I am\n",
              "    <span style=\"font-size: 0.8em; font-weight: bold; line-height: 1; border-radius: 0.35em; vertical-align: middle; margin-left: 0.5rem\">ORG</span>\n",
              "</mark>\n",
              " from \n",
              "<mark class=\"entity\" style=\"background: #feca74; padding: 0.45em 0.6em; margin: 0 0.25em; line-height: 1; border-radius: 0.35em;\">\n",
              "    India\n",
              "    <span style=\"font-size: 0.8em; font-weight: bold; line-height: 1; border-radius: 0.35em; vertical-align: middle; margin-left: 0.5rem\">GPE</span>\n",
              "</mark>\n",
              " </br> I want to work with \n",
              "<mark class=\"entity\" style=\"background: #7aecec; padding: 0.45em 0.6em; margin: 0 0.25em; line-height: 1; border-radius: 0.35em;\">\n",
              "    Google \n",
              " My\n",
              "    <span style=\"font-size: 0.8em; font-weight: bold; line-height: 1; border-radius: 0.35em; vertical-align: middle; margin-left: 0.5rem\">ORG</span>\n",
              "</mark>\n",
              " favorite teacher is \n",
              "<mark class=\"entity\" style=\"background: #aa9cfc; padding: 0.45em 0.6em; margin: 0 0.25em; line-height: 1; border-radius: 0.35em;\">\n",
              "    Andrew NG\n",
              "    <span style=\"font-size: 0.8em; font-weight: bold; line-height: 1; border-radius: 0.35em; vertical-align: middle; margin-left: 0.5rem\">PERSON</span>\n",
              "</mark>\n",
              "</div></span>"
            ]
          },
          "metadata": {}
        }
      ]
    }
  ],
  "metadata": {
    "accelerator": "GPU",
    "colab": {
      "provenance": [],
      "name": "Named_Entity_Recognition.ipynb",
      "include_colab_link": true
    },
    "gpuClass": "standard",
    "kernelspec": {
      "display_name": "Python 3",
      "name": "python3"
    },
    "language_info": {
      "name": "python"
    }
  },
  "nbformat": 4,
  "nbformat_minor": 0
}