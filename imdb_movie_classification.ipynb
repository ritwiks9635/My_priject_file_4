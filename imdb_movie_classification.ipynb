{
  "cells": [
    {
      "cell_type": "markdown",
      "metadata": {
        "id": "view-in-github",
        "colab_type": "text"
      },
      "source": [
        "<a href=\"https://colab.research.google.com/github/ritwiks9635/NLP_Project_File/blob/main/imdb_movie_classification.ipynb\" target=\"_parent\"><img src=\"https://colab.research.google.com/assets/colab-badge.svg\" alt=\"Open In Colab\"/></a>"
      ]
    },
    {
      "cell_type": "code",
      "source": [
        "### IMPORT MODULES ###"
      ],
      "metadata": {
        "id": "iMv16JJy2CLJ"
      },
      "execution_count": null,
      "outputs": []
    },
    {
      "cell_type": "code",
      "execution_count": 1,
      "metadata": {
        "id": "uYEAqVUluV70"
      },
      "outputs": [],
      "source": [
        "import tensorflow as tf\n",
        "import numpy as np\n",
        "import pandas as pd\n",
        "from tensorflow import keras"
      ]
    },
    {
      "cell_type": "markdown",
      "source": [
        "***LOAD DATA***"
      ],
      "metadata": {
        "id": "pTf7Qxkw2SNT"
      }
    },
    {
      "cell_type": "code",
      "execution_count": 83,
      "metadata": {
        "id": "-hYLy94UumqZ"
      },
      "outputs": [],
      "source": [
        "data = keras.datasets.imdb\n",
        "(train_data, train_label),(test_data, test_label) = data.load_data(num_words = 10000)"
      ]
    },
    {
      "cell_type": "code",
      "source": [
        "print(\"Training entries: {}, labels: {}\".format(len(train_data), len(train_label)))"
      ],
      "metadata": {
        "colab": {
          "base_uri": "https://localhost:8080/"
        },
        "id": "GM0MI37MzQZ7",
        "outputId": "a4f31426-69da-4af1-a041-a03da1d3da6c"
      },
      "execution_count": 84,
      "outputs": [
        {
          "output_type": "stream",
          "name": "stdout",
          "text": [
            "Training entries: 25000, labels: 25000\n"
          ]
        }
      ]
    },
    {
      "cell_type": "code",
      "source": [
        "print(train_data[0])"
      ],
      "metadata": {
        "colab": {
          "base_uri": "https://localhost:8080/"
        },
        "id": "zGKjhmYqzXpw",
        "outputId": "ec7a5835-48a8-4e41-a62c-068814c28e11"
      },
      "execution_count": 85,
      "outputs": [
        {
          "output_type": "stream",
          "name": "stdout",
          "text": [
            "[1, 14, 22, 16, 43, 530, 973, 1622, 1385, 65, 458, 4468, 66, 3941, 4, 173, 36, 256, 5, 25, 100, 43, 838, 112, 50, 670, 2, 9, 35, 480, 284, 5, 150, 4, 172, 112, 167, 2, 336, 385, 39, 4, 172, 4536, 1111, 17, 546, 38, 13, 447, 4, 192, 50, 16, 6, 147, 2025, 19, 14, 22, 4, 1920, 4613, 469, 4, 22, 71, 87, 12, 16, 43, 530, 38, 76, 15, 13, 1247, 4, 22, 17, 515, 17, 12, 16, 626, 18, 2, 5, 62, 386, 12, 8, 316, 8, 106, 5, 4, 2223, 5244, 16, 480, 66, 3785, 33, 4, 130, 12, 16, 38, 619, 5, 25, 124, 51, 36, 135, 48, 25, 1415, 33, 6, 22, 12, 215, 28, 77, 52, 5, 14, 407, 16, 82, 2, 8, 4, 107, 117, 5952, 15, 256, 4, 2, 7, 3766, 5, 723, 36, 71, 43, 530, 476, 26, 400, 317, 46, 7, 4, 2, 1029, 13, 104, 88, 4, 381, 15, 297, 98, 32, 2071, 56, 26, 141, 6, 194, 7486, 18, 4, 226, 22, 21, 134, 476, 26, 480, 5, 144, 30, 5535, 18, 51, 36, 28, 224, 92, 25, 104, 4, 226, 65, 16, 38, 1334, 88, 12, 16, 283, 5, 16, 4472, 113, 103, 32, 15, 16, 5345, 19, 178, 32]\n"
          ]
        }
      ]
    },
    {
      "cell_type": "code",
      "source": [
        "len(train_data[0]), len(train_data[1])"
      ],
      "metadata": {
        "colab": {
          "base_uri": "https://localhost:8080/"
        },
        "id": "1y1dcpj1zax-",
        "outputId": "f15d6141-9d41-4cbb-f545-d1c39f6491a5"
      },
      "execution_count": 86,
      "outputs": [
        {
          "output_type": "execute_result",
          "data": {
            "text/plain": [
              "(218, 189)"
            ]
          },
          "metadata": {},
          "execution_count": 86
        }
      ]
    },
    {
      "cell_type": "markdown",
      "source": [
        "***Convert Integer To Word***"
      ],
      "metadata": {
        "id": "zE0Jwdt_2kmE"
      }
    },
    {
      "cell_type": "code",
      "source": [
        "word_index = data.get_word_index()\n",
        "\n",
        "\n",
        "word_index = {k:(v+3) for k,v in word_index.items()}\n",
        "word_index[\"<PAD>\"] = 0\n",
        "word_index[\"<START>\"] = 1\n",
        "word_index[\"<UNK>\"] = 2\n",
        "word_index[\"<UNUSED>\"] = 3\n",
        "\n",
        "reverse_word_index = dict([(value, key) for (key, value) in word_index.items()])\n",
        "\n",
        "def decode_review(text):\n",
        "    return ' '.join([reverse_word_index.get(i, '?') for i in text])"
      ],
      "metadata": {
        "id": "hKVcXcRuzq2G"
      },
      "execution_count": 88,
      "outputs": []
    },
    {
      "cell_type": "code",
      "source": [
        "decode_review(train_data[0])"
      ],
      "metadata": {
        "colab": {
          "base_uri": "https://localhost:8080/",
          "height": 487
        },
        "id": "F4e8c3kuz8Lt",
        "outputId": "84278bfc-da20-402d-c434-2432cf6626e8"
      },
      "execution_count": 89,
      "outputs": [
        {
          "output_type": "execute_result",
          "data": {
            "text/plain": [
              "\"<START> this film was just brilliant casting location scenery story direction everyone's really suited the part they played and you could just imagine being there robert <UNK> is an amazing actor and now the same being director <UNK> father came from the same scottish island as myself so i loved the fact there was a real connection with this film the witty remarks throughout the film were great it was just brilliant so much that i bought the film as soon as it was released for <UNK> and would recommend it to everyone to watch and the fly fishing was amazing really cried at the end it was so sad and you know what they say if you cry at a film it must have been good and this definitely was also <UNK> to the two little boy's that played the <UNK> of norman and paul they were just brilliant children are often left out of the <UNK> list i think because the stars that play them all grown up are such a big profile for the whole film but these children are amazing and should be praised for what they have done don't you think the whole story was so lovely because it was true and was someone's life after all that was shared with us all\""
            ],
            "application/vnd.google.colaboratory.intrinsic+json": {
              "type": "string"
            }
          },
          "metadata": {},
          "execution_count": 89
        }
      ]
    },
    {
      "cell_type": "markdown",
      "source": [
        "***Prepare the data***"
      ],
      "metadata": {
        "id": "aV4MlWhh2yo2"
      }
    },
    {
      "cell_type": "code",
      "source": [
        "train_data = keras.preprocessing.sequence.pad_sequences(train_data,\n",
        "                                                        value=word_index[\"<PAD>\"],\n",
        "                                                        padding='post',\n",
        "                                                        maxlen=256)\n",
        "\n",
        "test_data = keras.preprocessing.sequence.pad_sequences(test_data,\n",
        "                                                       value=word_index[\"<PAD>\"],\n",
        "                                                       padding='post',\n",
        "                                                       maxlen=256)"
      ],
      "metadata": {
        "id": "HW1SFtZez-Si"
      },
      "execution_count": 90,
      "outputs": []
    },
    {
      "cell_type": "code",
      "source": [
        "len(train_data[0]), len(train_data[1])"
      ],
      "metadata": {
        "colab": {
          "base_uri": "https://localhost:8080/"
        },
        "id": "FYqBvA2l0Oj-",
        "outputId": "f7583e63-18a9-49eb-fa97-8acc5c0aa23d"
      },
      "execution_count": 91,
      "outputs": [
        {
          "output_type": "execute_result",
          "data": {
            "text/plain": [
              "(256, 256)"
            ]
          },
          "metadata": {},
          "execution_count": 91
        }
      ]
    },
    {
      "cell_type": "code",
      "source": [
        "print(train_data[0])"
      ],
      "metadata": {
        "colab": {
          "base_uri": "https://localhost:8080/"
        },
        "id": "3A4rxzeV0SLm",
        "outputId": "256d5545-1aac-4c48-9c57-1dc1826ab707"
      },
      "execution_count": 92,
      "outputs": [
        {
          "output_type": "stream",
          "name": "stdout",
          "text": [
            "[   1   14   22   16   43  530  973 1622 1385   65  458 4468   66 3941\n",
            "    4  173   36  256    5   25  100   43  838  112   50  670    2    9\n",
            "   35  480  284    5  150    4  172  112  167    2  336  385   39    4\n",
            "  172 4536 1111   17  546   38   13  447    4  192   50   16    6  147\n",
            " 2025   19   14   22    4 1920 4613  469    4   22   71   87   12   16\n",
            "   43  530   38   76   15   13 1247    4   22   17  515   17   12   16\n",
            "  626   18    2    5   62  386   12    8  316    8  106    5    4 2223\n",
            " 5244   16  480   66 3785   33    4  130   12   16   38  619    5   25\n",
            "  124   51   36  135   48   25 1415   33    6   22   12  215   28   77\n",
            "   52    5   14  407   16   82    2    8    4  107  117 5952   15  256\n",
            "    4    2    7 3766    5  723   36   71   43  530  476   26  400  317\n",
            "   46    7    4    2 1029   13  104   88    4  381   15  297   98   32\n",
            " 2071   56   26  141    6  194 7486   18    4  226   22   21  134  476\n",
            "   26  480    5  144   30 5535   18   51   36   28  224   92   25  104\n",
            "    4  226   65   16   38 1334   88   12   16  283    5   16 4472  113\n",
            "  103   32   15   16 5345   19  178   32    0    0    0    0    0    0\n",
            "    0    0    0    0    0    0    0    0    0    0    0    0    0    0\n",
            "    0    0    0    0    0    0    0    0    0    0    0    0    0    0\n",
            "    0    0    0    0]\n"
          ]
        }
      ]
    },
    {
      "cell_type": "markdown",
      "source": [
        "***Create the model***"
      ],
      "metadata": {
        "id": "3Bk7bH963qWA"
      }
    },
    {
      "cell_type": "code",
      "source": [
        "vocab_size = 10000\n",
        "\n",
        "model = keras.Sequential()\n",
        "model.add(keras.layers.Embedding(vocab_size, 16))\n",
        "model.add(keras.layers.GlobalAveragePooling1D())\n",
        "model.add(keras.layers.Dense(16, activation=tf.nn.relu))\n",
        "model.add(keras.layers.Dense(1, activation=tf.nn.sigmoid))\n",
        "\n",
        "model.summary()"
      ],
      "metadata": {
        "colab": {
          "base_uri": "https://localhost:8080/"
        },
        "id": "UtenGsER0Y7h",
        "outputId": "df1cffda-dac6-45ed-807b-78949fa2d53a"
      },
      "execution_count": 93,
      "outputs": [
        {
          "output_type": "stream",
          "name": "stdout",
          "text": [
            "Model: \"sequential_2\"\n",
            "_________________________________________________________________\n",
            " Layer (type)                Output Shape              Param #   \n",
            "=================================================================\n",
            " embedding_2 (Embedding)     (None, None, 16)          160000    \n",
            "                                                                 \n",
            " global_average_pooling1d_2   (None, 16)               0         \n",
            " (GlobalAveragePooling1D)                                        \n",
            "                                                                 \n",
            " dense_4 (Dense)             (None, 16)                272       \n",
            "                                                                 \n",
            " dense_5 (Dense)             (None, 1)                 17        \n",
            "                                                                 \n",
            "=================================================================\n",
            "Total params: 160,289\n",
            "Trainable params: 160,289\n",
            "Non-trainable params: 0\n",
            "_________________________________________________________________\n"
          ]
        }
      ]
    },
    {
      "cell_type": "code",
      "source": [
        "model.compile(optimizer='adam',\n",
        "              loss='binary_crossentropy',\n",
        "              metrics=['acc'])"
      ],
      "metadata": {
        "id": "OQ3i3CX00a5c"
      },
      "execution_count": 94,
      "outputs": []
    },
    {
      "cell_type": "markdown",
      "source": [
        "***Create Validation data***"
      ],
      "metadata": {
        "id": "FI7pQibz3zIa"
      }
    },
    {
      "cell_type": "code",
      "source": [
        "x_val = train_data[:10000]\n",
        "x_train = train_data[10000:]\n",
        "\n",
        "y_val = train_label[:10000]\n",
        "y_train = train_label[10000:]"
      ],
      "metadata": {
        "id": "Qo1_FTU40f7U"
      },
      "execution_count": 95,
      "outputs": []
    },
    {
      "cell_type": "markdown",
      "source": [
        "***Train the Model***"
      ],
      "metadata": {
        "id": "RhMmv0jL35Qe"
      }
    },
    {
      "cell_type": "code",
      "source": [
        "history = model.fit(x_train,\n",
        "                    y_train,\n",
        "                    epochs=40,\n",
        "                    batch_size=512,\n",
        "                    validation_data=(x_val, y_val),\n",
        "                    verbose=1)"
      ],
      "metadata": {
        "colab": {
          "base_uri": "https://localhost:8080/"
        },
        "id": "79_IHJHG0mjM",
        "outputId": "1afadc6d-46d8-44d8-f4e0-923fde43520f"
      },
      "execution_count": 96,
      "outputs": [
        {
          "output_type": "stream",
          "name": "stdout",
          "text": [
            "Epoch 1/40\n",
            "30/30 [==============================] - 2s 36ms/step - loss: 0.6921 - acc: 0.5381 - val_loss: 0.6906 - val_acc: 0.5468\n",
            "Epoch 2/40\n",
            "30/30 [==============================] - 1s 21ms/step - loss: 0.6874 - acc: 0.6035 - val_loss: 0.6837 - val_acc: 0.7172\n",
            "Epoch 3/40\n",
            "30/30 [==============================] - 1s 23ms/step - loss: 0.6762 - acc: 0.7515 - val_loss: 0.6699 - val_acc: 0.7357\n",
            "Epoch 4/40\n",
            "30/30 [==============================] - 1s 24ms/step - loss: 0.6569 - acc: 0.7694 - val_loss: 0.6478 - val_acc: 0.7625\n",
            "Epoch 5/40\n",
            "30/30 [==============================] - 1s 20ms/step - loss: 0.6276 - acc: 0.7841 - val_loss: 0.6163 - val_acc: 0.7769\n",
            "Epoch 6/40\n",
            "30/30 [==============================] - 1s 30ms/step - loss: 0.5877 - acc: 0.8026 - val_loss: 0.5761 - val_acc: 0.7978\n",
            "Epoch 7/40\n",
            "30/30 [==============================] - 1s 33ms/step - loss: 0.5410 - acc: 0.8246 - val_loss: 0.5325 - val_acc: 0.8147\n",
            "Epoch 8/40\n",
            "30/30 [==============================] - 1s 35ms/step - loss: 0.4936 - acc: 0.8394 - val_loss: 0.4899 - val_acc: 0.8294\n",
            "Epoch 9/40\n",
            "30/30 [==============================] - 1s 22ms/step - loss: 0.4485 - acc: 0.8583 - val_loss: 0.4523 - val_acc: 0.8414\n",
            "Epoch 10/40\n",
            "30/30 [==============================] - 1s 24ms/step - loss: 0.4088 - acc: 0.8703 - val_loss: 0.4202 - val_acc: 0.8493\n",
            "Epoch 11/40\n",
            "30/30 [==============================] - 1s 21ms/step - loss: 0.3744 - acc: 0.8789 - val_loss: 0.3938 - val_acc: 0.8569\n",
            "Epoch 12/40\n",
            "30/30 [==============================] - 1s 23ms/step - loss: 0.3460 - acc: 0.8875 - val_loss: 0.3725 - val_acc: 0.8617\n",
            "Epoch 13/40\n",
            "30/30 [==============================] - 1s 22ms/step - loss: 0.3212 - acc: 0.8927 - val_loss: 0.3556 - val_acc: 0.8666\n",
            "Epoch 14/40\n",
            "30/30 [==============================] - 1s 23ms/step - loss: 0.3005 - acc: 0.8985 - val_loss: 0.3420 - val_acc: 0.8695\n",
            "Epoch 15/40\n",
            "30/30 [==============================] - 1s 24ms/step - loss: 0.2825 - acc: 0.9041 - val_loss: 0.3307 - val_acc: 0.8744\n",
            "Epoch 16/40\n",
            "30/30 [==============================] - 1s 21ms/step - loss: 0.2671 - acc: 0.9089 - val_loss: 0.3212 - val_acc: 0.8762\n",
            "Epoch 17/40\n",
            "30/30 [==============================] - 1s 22ms/step - loss: 0.2526 - acc: 0.9137 - val_loss: 0.3146 - val_acc: 0.8757\n",
            "Epoch 18/40\n",
            "30/30 [==============================] - 1s 23ms/step - loss: 0.2396 - acc: 0.9189 - val_loss: 0.3073 - val_acc: 0.8795\n",
            "Epoch 19/40\n",
            "30/30 [==============================] - 1s 24ms/step - loss: 0.2280 - acc: 0.9225 - val_loss: 0.3027 - val_acc: 0.8804\n",
            "Epoch 20/40\n",
            "30/30 [==============================] - 1s 21ms/step - loss: 0.2177 - acc: 0.9260 - val_loss: 0.2995 - val_acc: 0.8814\n",
            "Epoch 21/40\n",
            "30/30 [==============================] - 1s 21ms/step - loss: 0.2083 - acc: 0.9296 - val_loss: 0.2945 - val_acc: 0.8833\n",
            "Epoch 22/40\n",
            "30/30 [==============================] - 1s 21ms/step - loss: 0.1985 - acc: 0.9332 - val_loss: 0.2917 - val_acc: 0.8827\n",
            "Epoch 23/40\n",
            "30/30 [==============================] - 1s 22ms/step - loss: 0.1897 - acc: 0.9372 - val_loss: 0.2901 - val_acc: 0.8840\n",
            "Epoch 24/40\n",
            "30/30 [==============================] - 1s 34ms/step - loss: 0.1822 - acc: 0.9400 - val_loss: 0.2881 - val_acc: 0.8853\n",
            "Epoch 25/40\n",
            "30/30 [==============================] - 1s 34ms/step - loss: 0.1743 - acc: 0.9441 - val_loss: 0.2872 - val_acc: 0.8847\n",
            "Epoch 26/40\n",
            "30/30 [==============================] - 1s 34ms/step - loss: 0.1671 - acc: 0.9467 - val_loss: 0.2866 - val_acc: 0.8853\n",
            "Epoch 27/40\n",
            "30/30 [==============================] - 1s 23ms/step - loss: 0.1604 - acc: 0.9492 - val_loss: 0.2862 - val_acc: 0.8855\n",
            "Epoch 28/40\n",
            "30/30 [==============================] - 1s 22ms/step - loss: 0.1543 - acc: 0.9527 - val_loss: 0.2864 - val_acc: 0.8857\n",
            "Epoch 29/40\n",
            "30/30 [==============================] - 1s 21ms/step - loss: 0.1481 - acc: 0.9547 - val_loss: 0.2868 - val_acc: 0.8861\n",
            "Epoch 30/40\n",
            "30/30 [==============================] - 1s 21ms/step - loss: 0.1425 - acc: 0.9571 - val_loss: 0.2871 - val_acc: 0.8860\n",
            "Epoch 31/40\n",
            "30/30 [==============================] - 1s 22ms/step - loss: 0.1370 - acc: 0.9586 - val_loss: 0.2883 - val_acc: 0.8860\n",
            "Epoch 32/40\n",
            "30/30 [==============================] - 1s 22ms/step - loss: 0.1315 - acc: 0.9613 - val_loss: 0.2907 - val_acc: 0.8858\n",
            "Epoch 33/40\n",
            "30/30 [==============================] - 1s 24ms/step - loss: 0.1266 - acc: 0.9625 - val_loss: 0.2920 - val_acc: 0.8847\n",
            "Epoch 34/40\n",
            "30/30 [==============================] - 1s 23ms/step - loss: 0.1219 - acc: 0.9657 - val_loss: 0.2933 - val_acc: 0.8864\n",
            "Epoch 35/40\n",
            "30/30 [==============================] - 1s 23ms/step - loss: 0.1172 - acc: 0.9672 - val_loss: 0.2950 - val_acc: 0.8853\n",
            "Epoch 36/40\n",
            "30/30 [==============================] - 1s 23ms/step - loss: 0.1129 - acc: 0.9687 - val_loss: 0.2975 - val_acc: 0.8843\n",
            "Epoch 37/40\n",
            "30/30 [==============================] - 1s 23ms/step - loss: 0.1089 - acc: 0.9694 - val_loss: 0.3002 - val_acc: 0.8845\n",
            "Epoch 38/40\n",
            "30/30 [==============================] - 1s 23ms/step - loss: 0.1045 - acc: 0.9719 - val_loss: 0.3021 - val_acc: 0.8841\n",
            "Epoch 39/40\n",
            "30/30 [==============================] - 1s 31ms/step - loss: 0.1008 - acc: 0.9727 - val_loss: 0.3056 - val_acc: 0.8831\n",
            "Epoch 40/40\n",
            "30/30 [==============================] - 1s 27ms/step - loss: 0.0969 - acc: 0.9745 - val_loss: 0.3079 - val_acc: 0.8837\n"
          ]
        }
      ]
    },
    {
      "cell_type": "markdown",
      "source": [
        "***Evaluate the model***"
      ],
      "metadata": {
        "id": "Q11mIWm_4AVf"
      }
    },
    {
      "cell_type": "code",
      "source": [
        "loss, accuracy = model.evaluate(test_data, test_label)\n",
        "print(\"Loss::\", loss)\n",
        "print(\"Accuracy::\", accuracy)"
      ],
      "metadata": {
        "colab": {
          "base_uri": "https://localhost:8080/"
        },
        "id": "5J2Mg6ZE033Z",
        "outputId": "5a42eeaf-22eb-4ab6-aea7-51e1fbc7cf02"
      },
      "execution_count": 97,
      "outputs": [
        {
          "output_type": "stream",
          "name": "stdout",
          "text": [
            "782/782 [==============================] - 1s 2ms/step - loss: 0.3275 - acc: 0.8719\n",
            "Loss:: 0.32750463485717773\n",
            "Accuracy:: 0.8718799948692322\n"
          ]
        }
      ]
    },
    {
      "cell_type": "code",
      "source": [
        "hist = history.history"
      ],
      "metadata": {
        "id": "oJTTvlKr1PRC"
      },
      "execution_count": 100,
      "outputs": []
    },
    {
      "cell_type": "markdown",
      "source": [
        "****Create a graph of accuracy and loss****"
      ],
      "metadata": {
        "id": "rmcCaRab4Kvr"
      }
    },
    {
      "cell_type": "code",
      "source": [
        "import matplotlib.pyplot as plt\n",
        "\n",
        "acc = hist['acc']\n",
        "val_acc = hist['val_acc']\n",
        "loss = hist['loss']\n",
        "val_loss = hist['val_loss']\n",
        "\n",
        "epochs = range(1, len(acc) + 1)\n",
        "\n",
        "# \"bo\" is for \"blue dot\"\n",
        "plt.plot(epochs, loss, 'bo', label='Training loss')\n",
        "# b is for \"solid blue line\"\n",
        "plt.plot(epochs, val_loss, 'b', label='Validation loss')\n",
        "plt.title('Training and validation loss')\n",
        "plt.xlabel('Epochs')\n",
        "plt.ylabel('Loss')\n",
        "plt.legend()\n",
        "\n",
        "plt.show()"
      ],
      "metadata": {
        "colab": {
          "base_uri": "https://localhost:8080/",
          "height": 277
        },
        "id": "MuTuTEc91gXV",
        "outputId": "a5a24ec6-b783-451e-b564-9b9842d25773"
      },
      "execution_count": 101,
      "outputs": [
        {
          "output_type": "display_data",
          "data": {
            "text/plain": [
              "<Figure size 640x480 with 1 Axes>"
            ],
            "image/png": "[encoded data removed]"
          },
          "metadata": {}
        }
      ]
    },
    {
      "cell_type": "code",
      "source": [
        "plt.clf()   # clear figure\n",
        "\n",
        "plt.plot(epochs, acc, 'bo', label='Training acc')\n",
        "plt.plot(epochs, val_acc, 'b', label='Validation acc')\n",
        "plt.title('Training and validation accuracy')\n",
        "plt.xlabel('Epochs')\n",
        "plt.ylabel('Accuracy')\n",
        "plt.legend()\n",
        "\n",
        "plt.show()"
      ],
      "metadata": {
        "colab": {
          "base_uri": "https://localhost:8080/",
          "height": 277
        },
        "id": "1CXi66gf1ryH",
        "outputId": "38c56c9d-7a48-4719-a455-c7e2248e9b9e"
      },
      "execution_count": 102,
      "outputs": [
        {
          "output_type": "display_data",
          "data": {
            "text/plain": [
              "<Figure size 640x480 with 1 Axes>"
            ],
            "image/png": "[encoded data removed]"
          },
          "metadata": {}
        }
      ]
    }
  ],
  "metadata": {
    "accelerator": "GPU",
    "colab": {
      "provenance": [],
      "gpuType": "T4",
      "authorship_tag": "ABX9TyPjBmjdGweTv5+WIjmC/jae",
      "include_colab_link": true
    },
    "kernelspec": {
      "display_name": "Python 3",
      "name": "python3"
    },
    "language_info": {
      "name": "python"
    }
  },
  "nbformat": 4,
  "nbformat_minor": 0
}